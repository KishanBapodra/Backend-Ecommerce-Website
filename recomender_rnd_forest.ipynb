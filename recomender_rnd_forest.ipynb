{
 "cells": [
  {
   "cell_type": "code",
   "execution_count": null,
   "id": "7a1272a8",
   "metadata": {},
   "outputs": [],
   "source": [
    "import pandas as pd\n",
    "from sklearn.ensemble import RandomForestRegressor\n",
    "from sklearn.model_selection import train_test_split\n",
    "from sklearn.metrics import mean_squared_error\n"
   ]
  },
  {
   "cell_type": "code",
   "execution_count": null,
   "id": "b0b48c26",
   "metadata": {},
   "outputs": [],
   "source": [
    "# Load the dataset\n",
    "data_file = 'X_train.csv'\n",
    "df = pd.read_csv(data_file)"
   ]
  },
  {
   "cell_type": "code",
   "execution_count": null,
   "id": "087eaf85",
   "metadata": {},
   "outputs": [],
   "source": [
    "# Handle missing values\n",
    "df = df.dropna()\n",
    "\n",
    "# Create a score based on mileage, tax, and year\n",
    "max_year = df['year'].max()\n",
    "df['score'] = df['mileage'] + df['price'] - (max_year - df['year'])\n",
    "\n",
    "# Split the dataset into features and target\n",
    "X = df.drop(columns=['carID', 'score'])\n",
    "y = df['score']\n"
   ]
  },
  {
   "cell_type": "code",
   "execution_count": null,
   "id": "d9b104b6",
   "metadata": {},
   "outputs": [],
   "source": [
    "# Preprocess the categorical features\n",
    "X = pd.get_dummies(X, drop_first=True)\n",
    "\n",
    "# Split the dataset into train and test sets\n",
    "X_train, X_test, y_train, y_test = train_test_split(X, y, test_size=0.2, random_state=42)\n",
    "\n",
    "# Train the random forest model\n",
    "model = RandomForestRegressor(n_estimators=100, random_state=42)\n",
    "model.fit(X_train, y_train)\n",
    "\n",
    "# Evaluate the model\n",
    "y_pred = model.predict(X_test)\n",
    "mse = mean_squared_error(y_test, y_pred)\n",
    "print(f\"Mean squared error: {mse}\")"
   ]
  },
  {
   "cell_type": "code",
   "execution_count": null,
   "id": "91f1acce",
   "metadata": {},
   "outputs": [],
   "source": [
    "X_train.head()"
   ]
  },
  {
   "cell_type": "code",
   "execution_count": null,
   "id": "dac3c82f",
   "metadata": {},
   "outputs": [],
   "source": [
    "X_test.head()"
   ]
  },
  {
   "cell_type": "code",
   "execution_count": null,
   "id": "a3ab0716",
   "metadata": {},
   "outputs": [],
   "source": [
    "# Make predictions for the entire dataset\n",
    "df['predicted_score'] = model.predict(pd.get_dummies(df.drop(columns=['carID', 'score']), drop_first=True))\n",
    "\n",
    "# Sort the cars by their predicted scores\n",
    "sorted_cars = df.sort_values(by='predicted_score')\n",
    "\n",
    "# Display the top recommended cars\n",
    "top_n = 10\n",
    "print(f\"Top {top_n} recommended cars:\")\n",
    "print(sorted_cars.head(top_n))\n"
   ]
  },
  {
   "cell_type": "code",
   "execution_count": null,
   "id": "21cf0598",
   "metadata": {},
   "outputs": [],
   "source": []
  }
 ],
 "metadata": {
  "kernelspec": {
   "display_name": "Python 3 (ipykernel)",
   "language": "python",
   "name": "python3"
  },
  "language_info": {
   "codemirror_mode": {
    "name": "ipython",
    "version": 3
   },
   "file_extension": ".py",
   "mimetype": "text/x-python",
   "name": "python",
   "nbconvert_exporter": "python",
   "pygments_lexer": "ipython3",
   "version": "3.9.16"
  }
 },
 "nbformat": 4,
 "nbformat_minor": 5
}

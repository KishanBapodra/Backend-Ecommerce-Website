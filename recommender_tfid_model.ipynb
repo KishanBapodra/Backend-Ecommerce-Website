{
 "cells": [
  {
   "cell_type": "code",
   "execution_count": null,
   "metadata": {},
   "outputs": [],
   "source": [
    "# Import libraries\n",
    "import pandas as pd\n",
    "from sklearn.feature_extraction.text import TfidfVectorizer\n",
    "from sklearn.metrics.pairwise import cosine_similarity\n",
    "import pickle\n",
    "# Load data\n",
    "cars = pd.read_csv('Properties.csv')\n",
    "\n",
    "# Preprocess data\n",
    "cars['brand'] = cars['brand'].fillna('')\n",
    "tfidf = TfidfVectorizer(stop_words='english')\n",
    "tfidf_matrix = tfidf.fit_transform(cars['brand'])\n",
    "cosine_sim = cosine_similarity(tfidf_matrix)\n",
    "\n",
    "\n",
    "# Define function to recommend similar cars based on price\n",
    "def recommend_car_price(car_index, max_price, cosine_sim=cosine_sim, cars=cars):\n",
    "    similar_cars = list(enumerate(cosine_sim[car_index]))\n",
    "    sorted_cars = sorted(similar_cars, key=lambda x: (x[1], cars.iloc[x[0]]['Price']), reverse=True)\n",
    "    indices = [i[0] for i in sorted_cars if cars.iloc[i[0]]['Price'] <= max_price][:6]\n",
    "    return cars.iloc[indices]\n",
    "\n",
    "\n",
    "# Test the function by recommending similar cars to the car at index 0 with a maximum price of $30,000\n",
    "recommend_car_price(2, 30000)\n",
    "\n",
    "with open('recommend_car.pkl','wb') as f:\n",
    "    pickle.dump(recommend_car_price,f)"
   ]
  }
 ],
 "metadata": {
  "language_info": {
   "name": "python"
  },
  "orig_nbformat": 4
 },
 "nbformat": 4,
 "nbformat_minor": 2
}
